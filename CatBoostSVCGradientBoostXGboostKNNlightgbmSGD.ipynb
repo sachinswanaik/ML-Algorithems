{
 "cells": [
  {
   "cell_type": "code",
   "execution_count": 102,
   "metadata": {},
   "outputs": [],
   "source": [
    "import pandas as pd\n",
    "data=pd.read_csv(r'D:\\desktop\\Aaaa\\Consolidated Retinal Imaging.csv')\n"
   ]
  },
  {
   "cell_type": "code",
   "execution_count": 2,
   "metadata": {},
   "outputs": [],
   "source": [
    "col=['Left_CRVE','Right_CRVE','Left_CRAE','Right_CRAE','Average_vein','Average_artery','Lt_AVR'\n",
    ",'Rt_AVR','Left_Vein_tort','Right_Vein_Tortuosity','Left_Arte_Tort','Right_Art_tort','Left_FD'\n",
    ",'Right_FD','Left_Vein_RT','Right_Vein_RT','Left_Arte_RT','Right_Art_RT','Group']\n",
    "o_data=data[col]"
   ]
  },
  {
   "cell_type": "code",
   "execution_count": 3,
   "metadata": {},
   "outputs": [],
   "source": [
    "data1=o_data.dropna(subset=['Left_CRVE','Right_CRVE'])"
   ]
  },
  {
   "cell_type": "code",
   "execution_count": 4,
   "metadata": {},
   "outputs": [],
   "source": [
    "data2=data1.fillna(method='pad')"
   ]
  },
  {
   "cell_type": "code",
   "execution_count": 5,
   "metadata": {},
   "outputs": [
    {
     "data": {
      "text/plain": [
       "Left_CRVE                0\n",
       "Right_CRVE               0\n",
       "Left_CRAE                0\n",
       "Right_CRAE               0\n",
       "Average_vein             0\n",
       "Average_artery           0\n",
       "Lt_AVR                   0\n",
       "Rt_AVR                   0\n",
       "Left_Vein_tort           0\n",
       "Right_Vein_Tortuosity    0\n",
       "Left_Arte_Tort           0\n",
       "Right_Art_tort           0\n",
       "Left_FD                  0\n",
       "Right_FD                 0\n",
       "Left_Vein_RT             0\n",
       "Right_Vein_RT            0\n",
       "Left_Arte_RT             0\n",
       "Right_Art_RT             0\n",
       "Group                    0\n",
       "dtype: int64"
      ]
     },
     "execution_count": 5,
     "metadata": {},
     "output_type": "execute_result"
    }
   ],
   "source": [
    "data2.isnull().sum()"
   ]
  },
  {
   "cell_type": "code",
   "execution_count": 6,
   "metadata": {},
   "outputs": [],
   "source": [
    "feature_col=['Left_CRVE','Right_CRVE','Left_CRAE','Right_CRAE','Average_vein','Average_artery','Lt_AVR'\n",
    ",'Rt_AVR','Left_Vein_tort','Right_Vein_Tortuosity','Left_Arte_Tort','Right_Art_tort','Left_FD'\n",
    ",'Right_FD','Left_Vein_RT','Right_Vein_RT','Left_Arte_RT','Right_Art_RT']\n",
    "x=data2[feature_col]\n",
    "y=data2.Group"
   ]
  },
  {
   "cell_type": "code",
   "execution_count": 9,
   "metadata": {},
   "outputs": [],
   "source": [
    "from sklearn.model_selection import train_test_split\n",
    "X_train,X_test,y_train,y_test=train_test_split(x,y,test_size=0.20,random_state=0)"
   ]
  },
  {
   "cell_type": "code",
   "execution_count": 11,
   "metadata": {},
   "outputs": [],
   "source": [
    "from catboost import CatBoostRegressor"
   ]
  },
  {
   "cell_type": "code",
   "execution_count": 12,
   "metadata": {},
   "outputs": [],
   "source": [
    "model=CatBoostRegressor(iterations=50, depth=3, learning_rate=0.1, loss_function='RMSE')"
   ]
  },
  {
   "cell_type": "code",
   "execution_count": 13,
   "metadata": {},
   "outputs": [
    {
     "name": "stdout",
     "output_type": "stream",
     "text": [
      "0:\tlearn: 0.7969631\ttotal: 54.7ms\tremaining: 2.68s\n",
      "1:\tlearn: 0.7813397\ttotal: 58.8ms\tremaining: 1.41s\n",
      "2:\tlearn: 0.7653182\ttotal: 62ms\tremaining: 971ms\n",
      "3:\tlearn: 0.7503558\ttotal: 65.6ms\tremaining: 754ms\n",
      "4:\tlearn: 0.7341307\ttotal: 70.4ms\tremaining: 633ms\n",
      "5:\tlearn: 0.7203330\ttotal: 71.8ms\tremaining: 526ms\n",
      "6:\tlearn: 0.7069839\ttotal: 73.2ms\tremaining: 450ms\n",
      "7:\tlearn: 0.6975871\ttotal: 74.7ms\tremaining: 392ms\n",
      "8:\tlearn: 0.6880485\ttotal: 76ms\tremaining: 346ms\n",
      "9:\tlearn: 0.6817169\ttotal: 77.5ms\tremaining: 310ms\n",
      "10:\tlearn: 0.6739132\ttotal: 79ms\tremaining: 280ms\n",
      "11:\tlearn: 0.6624553\ttotal: 80.3ms\tremaining: 254ms\n",
      "12:\tlearn: 0.6563211\ttotal: 81.8ms\tremaining: 233ms\n",
      "13:\tlearn: 0.6472389\ttotal: 83.2ms\tremaining: 214ms\n",
      "14:\tlearn: 0.6426961\ttotal: 84.5ms\tremaining: 197ms\n",
      "15:\tlearn: 0.6382667\ttotal: 86ms\tremaining: 183ms\n",
      "16:\tlearn: 0.6324835\ttotal: 87.3ms\tremaining: 169ms\n",
      "17:\tlearn: 0.6273917\ttotal: 88.6ms\tremaining: 158ms\n",
      "18:\tlearn: 0.6211919\ttotal: 90.1ms\tremaining: 147ms\n",
      "19:\tlearn: 0.6153433\ttotal: 91.1ms\tremaining: 137ms\n",
      "20:\tlearn: 0.6130160\ttotal: 91.9ms\tremaining: 127ms\n",
      "21:\tlearn: 0.6082294\ttotal: 92.8ms\tremaining: 118ms\n",
      "22:\tlearn: 0.6009833\ttotal: 93.6ms\tremaining: 110ms\n",
      "23:\tlearn: 0.5948719\ttotal: 94.4ms\tremaining: 102ms\n",
      "24:\tlearn: 0.5894322\ttotal: 95.7ms\tremaining: 95.7ms\n",
      "25:\tlearn: 0.5869617\ttotal: 96.8ms\tremaining: 89.3ms\n",
      "26:\tlearn: 0.5833816\ttotal: 97.6ms\tremaining: 83.2ms\n",
      "27:\tlearn: 0.5805239\ttotal: 98.4ms\tremaining: 77.3ms\n",
      "28:\tlearn: 0.5773821\ttotal: 99.2ms\tremaining: 71.8ms\n",
      "29:\tlearn: 0.5739178\ttotal: 100ms\tremaining: 66.7ms\n",
      "30:\tlearn: 0.5707803\ttotal: 101ms\tremaining: 61.8ms\n",
      "31:\tlearn: 0.5693603\ttotal: 102ms\tremaining: 57.2ms\n",
      "32:\tlearn: 0.5658762\ttotal: 103ms\tremaining: 52.8ms\n",
      "33:\tlearn: 0.5636748\ttotal: 103ms\tremaining: 48.6ms\n",
      "34:\tlearn: 0.5604385\ttotal: 104ms\tremaining: 44.7ms\n",
      "35:\tlearn: 0.5582318\ttotal: 105ms\tremaining: 40.9ms\n",
      "36:\tlearn: 0.5552036\ttotal: 106ms\tremaining: 37.2ms\n",
      "37:\tlearn: 0.5538275\ttotal: 107ms\tremaining: 33.7ms\n",
      "38:\tlearn: 0.5527017\ttotal: 108ms\tremaining: 30.4ms\n",
      "39:\tlearn: 0.5509478\ttotal: 109ms\tremaining: 27.2ms\n",
      "40:\tlearn: 0.5487293\ttotal: 110ms\tremaining: 24ms\n",
      "41:\tlearn: 0.5466259\ttotal: 110ms\tremaining: 21ms\n",
      "42:\tlearn: 0.5430450\ttotal: 111ms\tremaining: 18.1ms\n",
      "43:\tlearn: 0.5393279\ttotal: 112ms\tremaining: 15.3ms\n",
      "44:\tlearn: 0.5367907\ttotal: 113ms\tremaining: 12.6ms\n",
      "45:\tlearn: 0.5353525\ttotal: 114ms\tremaining: 9.9ms\n",
      "46:\tlearn: 0.5346888\ttotal: 115ms\tremaining: 7.32ms\n",
      "47:\tlearn: 0.5328629\ttotal: 116ms\tremaining: 4.82ms\n",
      "48:\tlearn: 0.5292393\ttotal: 116ms\tremaining: 2.38ms\n",
      "49:\tlearn: 0.5270009\ttotal: 117ms\tremaining: 0us\n"
     ]
    },
    {
     "data": {
      "text/plain": [
       "<catboost.core.CatBoostRegressor at 0x1b72fab3048>"
      ]
     },
     "execution_count": 13,
     "metadata": {},
     "output_type": "execute_result"
    }
   ],
   "source": [
    "model.fit(X_train, y_train)"
   ]
  },
  {
   "cell_type": "code",
   "execution_count": 15,
   "metadata": {},
   "outputs": [],
   "source": [
    "y_pred=model.predict(X_test)"
   ]
  },
  {
   "cell_type": "code",
   "execution_count": 33,
   "metadata": {},
   "outputs": [
    {
     "data": {
      "text/plain": [
       "0.379867593498014"
      ]
     },
     "execution_count": 33,
     "metadata": {},
     "output_type": "execute_result"
    }
   ],
   "source": [
    "model.score(X_test, y_test)"
   ]
  },
  {
   "cell_type": "code",
   "execution_count": null,
   "metadata": {},
   "outputs": [],
   "source": []
  },
  {
   "cell_type": "code",
   "execution_count": 28,
   "metadata": {},
   "outputs": [],
   "source": [
    "from sklearn.svm import SVC\n",
    "model1 = SVC()"
   ]
  },
  {
   "cell_type": "code",
   "execution_count": 29,
   "metadata": {},
   "outputs": [
    {
     "name": "stderr",
     "output_type": "stream",
     "text": [
      "C:\\ProgramData\\Anaconda3\\lib\\site-packages\\sklearn\\svm\\base.py:193: FutureWarning: The default value of gamma will change from 'auto' to 'scale' in version 0.22 to account better for unscaled features. Set gamma explicitly to 'auto' or 'scale' to avoid this warning.\n",
      "  \"avoid this warning.\", FutureWarning)\n"
     ]
    },
    {
     "data": {
      "text/plain": [
       "SVC(C=1.0, cache_size=200, class_weight=None, coef0=0.0,\n",
       "    decision_function_shape='ovr', degree=3, gamma='auto_deprecated',\n",
       "    kernel='rbf', max_iter=-1, probability=False, random_state=None,\n",
       "    shrinking=True, tol=0.001, verbose=False)"
      ]
     },
     "execution_count": 29,
     "metadata": {},
     "output_type": "execute_result"
    }
   ],
   "source": [
    "model1.fit(X_train, y_train)"
   ]
  },
  {
   "cell_type": "code",
   "execution_count": null,
   "metadata": {},
   "outputs": [],
   "source": []
  },
  {
   "cell_type": "code",
   "execution_count": 43,
   "metadata": {},
   "outputs": [
    {
     "data": {
      "text/plain": [
       "0.35714285714285715"
      ]
     },
     "execution_count": 43,
     "metadata": {},
     "output_type": "execute_result"
    }
   ],
   "source": [
    "\n",
    "model1.score(X_test, y_test)"
   ]
  },
  {
   "cell_type": "code",
   "execution_count": 42,
   "metadata": {},
   "outputs": [
    {
     "name": "stdout",
     "output_type": "stream",
     "text": [
      "Accuracy: 0.35714285714285715\n"
     ]
    }
   ],
   "source": [
    "y_pred=model1.predict(X_test)\n",
    "print(\"Accuracy:\",metrics.accuracy_score(y_test, y_pred))"
   ]
  },
  {
   "cell_type": "code",
   "execution_count": 38,
   "metadata": {},
   "outputs": [
    {
     "data": {
      "text/plain": [
       "0.39285714285714285"
      ]
     },
     "execution_count": 38,
     "metadata": {},
     "output_type": "execute_result"
    }
   ],
   "source": [
    "model_g = SVC(gamma=10)\n",
    "model_g.fit(X_train, y_train)\n",
    "model_g.score(X_test, y_test)"
   ]
  },
  {
   "cell_type": "code",
   "execution_count": 41,
   "metadata": {},
   "outputs": [
    {
     "data": {
      "text/plain": [
       "0.5714285714285714"
      ]
     },
     "execution_count": 41,
     "metadata": {},
     "output_type": "execute_result"
    }
   ],
   "source": [
    "model_linear_kernal = SVC(kernel='linear')\n",
    "model_linear_kernal.fit(X_train, y_train)\n",
    "model_linear_kernal.score(X_test, y_test)"
   ]
  },
  {
   "cell_type": "code",
   "execution_count": 44,
   "metadata": {},
   "outputs": [
    {
     "name": "stderr",
     "output_type": "stream",
     "text": [
      "C:\\ProgramData\\Anaconda3\\lib\\site-packages\\sklearn\\svm\\base.py:193: FutureWarning: The default value of gamma will change from 'auto' to 'scale' in version 0.22 to account better for unscaled features. Set gamma explicitly to 'auto' or 'scale' to avoid this warning.\n",
      "  \"avoid this warning.\", FutureWarning)\n"
     ]
    },
    {
     "data": {
      "text/plain": [
       "0.35714285714285715"
      ]
     },
     "execution_count": 44,
     "metadata": {},
     "output_type": "execute_result"
    }
   ],
   "source": [
    "model_C = SVC(C=1)\n",
    "model_C.fit(X_train, y_train)\n",
    "model_C.score(X_test, y_test)"
   ]
  },
  {
   "cell_type": "code",
   "execution_count": null,
   "metadata": {},
   "outputs": [],
   "source": []
  },
  {
   "cell_type": "code",
   "execution_count": 45,
   "metadata": {},
   "outputs": [],
   "source": [
    "from sklearn.ensemble import GradientBoostingClassifier\n",
    "gb_clf2 = GradientBoostingClassifier(n_estimators=20, learning_rate=0.5, max_features=2, max_depth=2, random_state=0)"
   ]
  },
  {
   "cell_type": "code",
   "execution_count": 46,
   "metadata": {},
   "outputs": [
    {
     "data": {
      "text/plain": [
       "GradientBoostingClassifier(criterion='friedman_mse', init=None,\n",
       "                           learning_rate=0.5, loss='deviance', max_depth=2,\n",
       "                           max_features=2, max_leaf_nodes=None,\n",
       "                           min_impurity_decrease=0.0, min_impurity_split=None,\n",
       "                           min_samples_leaf=1, min_samples_split=2,\n",
       "                           min_weight_fraction_leaf=0.0, n_estimators=20,\n",
       "                           n_iter_no_change=None, presort='auto',\n",
       "                           random_state=0, subsample=1.0, tol=0.0001,\n",
       "                           validation_fraction=0.1, verbose=0,\n",
       "                           warm_start=False)"
      ]
     },
     "execution_count": 46,
     "metadata": {},
     "output_type": "execute_result"
    }
   ],
   "source": [
    "gb_clf2.fit(X_train, y_train)"
   ]
  },
  {
   "cell_type": "code",
   "execution_count": 47,
   "metadata": {},
   "outputs": [
    {
     "name": "stdout",
     "output_type": "stream",
     "text": [
      "Accuracy: 0.7321428571428571\n"
     ]
    }
   ],
   "source": [
    "y_pred=gb_clf2.predict(X_test)\n",
    "print(\"Accuracy:\",metrics.accuracy_score(y_test, y_pred))"
   ]
  },
  {
   "cell_type": "code",
   "execution_count": 48,
   "metadata": {},
   "outputs": [
    {
     "name": "stdout",
     "output_type": "stream",
     "text": [
      "Accuracy: 0.7321428571428571\n"
     ]
    }
   ],
   "source": [
    "clf2 = GradientBoostingClassifier()\n",
    "clf2.fit(X_train, y_train)\n",
    "pred=clf2.predict(X_test)\n",
    "print(\"Accuracy:\",metrics.accuracy_score(y_test, pred))"
   ]
  },
  {
   "cell_type": "code",
   "execution_count": 55,
   "metadata": {},
   "outputs": [
    {
     "name": "stdout",
     "output_type": "stream",
     "text": [
      "0.7321428571428571\n"
     ]
    }
   ],
   "source": [
    "score1 = clf2.score(X_test, y_test)\n",
    "print(score1)"
   ]
  },
  {
   "cell_type": "code",
   "execution_count": null,
   "metadata": {},
   "outputs": [],
   "source": [
    "###########XGBoost Classifier################################"
   ]
  },
  {
   "cell_type": "code",
   "execution_count": 50,
   "metadata": {},
   "outputs": [],
   "source": [
    "from xgboost import XGBClassifier"
   ]
  },
  {
   "cell_type": "code",
   "execution_count": 100,
   "metadata": {},
   "outputs": [
    {
     "data": {
      "text/plain": [
       "XGBClassifier(base_score=0.5, booster='gbtree', colsample_bylevel=1,\n",
       "              colsample_bynode=1, colsample_bytree=1, gamma=0,\n",
       "              learning_rate=0.1, max_delta_step=0, max_depth=3,\n",
       "              min_child_weight=1, missing=None, n_estimators=100, n_jobs=1,\n",
       "              nthread=None, objective='multi:softprob', random_state=0,\n",
       "              reg_alpha=0, reg_lambda=1, scale_pos_weight=1, seed=None,\n",
       "              silent=None, subsample=1, verbosity=1)"
      ]
     },
     "execution_count": 100,
     "metadata": {},
     "output_type": "execute_result"
    }
   ],
   "source": [
    "xgb_clf = XGBClassifier()\n",
    "xgb_clf.fit(X_train, y_train)"
   ]
  },
  {
   "cell_type": "code",
   "execution_count": 101,
   "metadata": {},
   "outputs": [
    {
     "name": "stdout",
     "output_type": "stream",
     "text": [
      "Accuracy: 0.75\n"
     ]
    }
   ],
   "source": [
    "xgb_clfpred=xgb_clf.predict(X_test)\n",
    "print(\"Accuracy:\",metrics.accuracy_score(y_test, xgb_clfpred))"
   ]
  },
  {
   "cell_type": "code",
   "execution_count": 99,
   "metadata": {},
   "outputs": [
    {
     "name": "stdout",
     "output_type": "stream",
     "text": [
      "1.0\n"
     ]
    }
   ],
   "source": [
    "score = xgb_clf.score(X_train,y_train)\n",
    "print(score)"
   ]
  },
  {
   "cell_type": "code",
   "execution_count": null,
   "metadata": {},
   "outputs": [],
   "source": [
    "###########Stochastic Gradient Descent######################"
   ]
  },
  {
   "cell_type": "code",
   "execution_count": 66,
   "metadata": {},
   "outputs": [
    {
     "data": {
      "text/plain": [
       "SGDClassifier(alpha=0.0001, average=False, class_weight=None,\n",
       "              early_stopping=False, epsilon=0.1, eta0=0.0, fit_intercept=True,\n",
       "              l1_ratio=0.15, learning_rate='optimal', loss='hinge',\n",
       "              max_iter=1000, n_iter_no_change=5, n_jobs=None, penalty='l2',\n",
       "              power_t=0.5, random_state=None, shuffle=True, tol=0.001,\n",
       "              validation_fraction=0.1, verbose=0, warm_start=False)"
      ]
     },
     "execution_count": 66,
     "metadata": {},
     "output_type": "execute_result"
    }
   ],
   "source": [
    "from sklearn import linear_model\n",
    "sgd=linear_model.SGDClassifier()\n",
    "#loss='modified_huber',shuffle=True,random_state=101\n",
    "sgd.fit(X_train, y_train)"
   ]
  },
  {
   "cell_type": "code",
   "execution_count": 67,
   "metadata": {},
   "outputs": [
    {
     "data": {
      "text/plain": [
       "0.5357142857142857"
      ]
     },
     "execution_count": 67,
     "metadata": {},
     "output_type": "execute_result"
    }
   ],
   "source": [
    "sgd_pred=sgd.predict(X_test)\n",
    "metrics.accuracy_score(y_test, sgd_pred)"
   ]
  },
  {
   "cell_type": "code",
   "execution_count": 68,
   "metadata": {},
   "outputs": [
    {
     "data": {
      "text/plain": [
       "0.4107142857142857"
      ]
     },
     "execution_count": 68,
     "metadata": {},
     "output_type": "execute_result"
    }
   ],
   "source": [
    "clf = linear_model.SGDClassifier(max_iter=1000, tol=1e-3)\n",
    "clf.fit(X_train, y_train)\n",
    "clf_pred=clf.predict(X_test)\n",
    "metrics.accuracy_score(y_test, clf_pred)"
   ]
  },
  {
   "cell_type": "code",
   "execution_count": null,
   "metadata": {},
   "outputs": [],
   "source": [
    "#############K-Nearest Neighbours##########################"
   ]
  },
  {
   "cell_type": "code",
   "execution_count": 85,
   "metadata": {},
   "outputs": [
    {
     "data": {
      "text/plain": [
       "KNeighborsClassifier(algorithm='auto', leaf_size=30, metric='minkowski',\n",
       "                     metric_params=None, n_jobs=None, n_neighbors=10, p=2,\n",
       "                     weights='uniform')"
      ]
     },
     "execution_count": 85,
     "metadata": {},
     "output_type": "execute_result"
    }
   ],
   "source": [
    "from sklearn.neighbors import KNeighborsClassifier\n",
    "neigh = KNeighborsClassifier(n_neighbors=10)\n",
    "neigh.fit(X_train, y_train )"
   ]
  },
  {
   "cell_type": "code",
   "execution_count": 86,
   "metadata": {},
   "outputs": [
    {
     "data": {
      "text/plain": [
       "0.6071428571428571"
      ]
     },
     "execution_count": 86,
     "metadata": {},
     "output_type": "execute_result"
    }
   ],
   "source": [
    "npred=neigh.predict(X_test)\n",
    "metrics.accuracy_score(y_test, npred)"
   ]
  },
  {
   "cell_type": "code",
   "execution_count": 87,
   "metadata": {},
   "outputs": [],
   "source": [
    "################"
   ]
  },
  {
   "cell_type": "code",
   "execution_count": 89,
   "metadata": {},
   "outputs": [],
   "source": [
    "data2.to_excel('new.xlsx')"
   ]
  },
  {
   "cell_type": "code",
   "execution_count": 103,
   "metadata": {},
   "outputs": [],
   "source": [
    "##################lightgbm####################3"
   ]
  },
  {
   "cell_type": "code",
   "execution_count": 92,
   "metadata": {},
   "outputs": [],
   "source": [
    "import lightgbm as lgb\n",
    "lg = lgb.LGBMClassifier(silent=False)"
   ]
  },
  {
   "cell_type": "code",
   "execution_count": 93,
   "metadata": {},
   "outputs": [
    {
     "data": {
      "text/plain": [
       "LGBMClassifier(boosting_type='gbdt', class_weight=None, colsample_bytree=1.0,\n",
       "               importance_type='split', learning_rate=0.1, max_depth=-1,\n",
       "               min_child_samples=20, min_child_weight=0.001, min_split_gain=0.0,\n",
       "               n_estimators=100, n_jobs=-1, num_leaves=31, objective=None,\n",
       "               random_state=None, reg_alpha=0.0, reg_lambda=0.0, silent=False,\n",
       "               subsample=1.0, subsample_for_bin=200000, subsample_freq=0)"
      ]
     },
     "execution_count": 93,
     "metadata": {},
     "output_type": "execute_result"
    }
   ],
   "source": [
    "lg.fit(X_train, y_train )"
   ]
  },
  {
   "cell_type": "code",
   "execution_count": 94,
   "metadata": {},
   "outputs": [
    {
     "data": {
      "text/plain": [
       "0.75"
      ]
     },
     "execution_count": 94,
     "metadata": {},
     "output_type": "execute_result"
    }
   ],
   "source": [
    "lgpred=lg.predict(X_test)\n",
    "metrics.accuracy_score(y_test, lgpred)"
   ]
  },
  {
   "cell_type": "code",
   "execution_count": 96,
   "metadata": {},
   "outputs": [
    {
     "name": "stdout",
     "output_type": "stream",
     "text": [
      "0.75\n"
     ]
    }
   ],
   "source": [
    "score2 = lg.score(X_test, y_test)\n",
    "print(score2)"
   ]
  },
  {
   "cell_type": "code",
   "execution_count": 97,
   "metadata": {},
   "outputs": [
    {
     "name": "stdout",
     "output_type": "stream",
     "text": [
      "1.0\n"
     ]
    }
   ],
   "source": [
    "score3= lg.score(X_train, y_train)\n",
    "print(score3)"
   ]
  },
  {
   "cell_type": "code",
   "execution_count": null,
   "metadata": {},
   "outputs": [],
   "source": []
  }
 ],
 "metadata": {
  "kernelspec": {
   "display_name": "Python 3",
   "language": "python",
   "name": "python3"
  },
  "language_info": {
   "codemirror_mode": {
    "name": "ipython",
    "version": 3
   },
   "file_extension": ".py",
   "mimetype": "text/x-python",
   "name": "python",
   "nbconvert_exporter": "python",
   "pygments_lexer": "ipython3",
   "version": "3.7.4"
  }
 },
 "nbformat": 4,
 "nbformat_minor": 2
}
